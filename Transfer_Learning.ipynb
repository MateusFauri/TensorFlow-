{
  "nbformat": 4,
  "nbformat_minor": 0,
  "metadata": {
    "colab": {
      "provenance": [],
      "authorship_tag": "ABX9TyOEU2Vm6L3c3DAiNS6TwP5p",
      "include_colab_link": true
    },
    "kernelspec": {
      "name": "python3",
      "display_name": "Python 3"
    },
    "language_info": {
      "name": "python"
    },
    "accelerator": "GPU",
    "gpuClass": "standard"
  },
  "cells": [
    {
      "cell_type": "markdown",
      "metadata": {
        "id": "view-in-github",
        "colab_type": "text"
      },
      "source": [
        "<a href=\"https://colab.research.google.com/github/MateusFauri/TensorFlow-/blob/main/Transfer_Learning.ipynb\" target=\"_parent\"><img src=\"https://colab.research.google.com/assets/colab-badge.svg\" alt=\"Open In Colab\"/></a>"
      ]
    },
    {
      "cell_type": "markdown",
      "source": [
        "# Feature Extraction\n"
      ],
      "metadata": {
        "id": "9Dh9qeWW6_g-"
      }
    },
    {
      "cell_type": "code",
      "source": [
        "import zipfile\n",
        "\n",
        "!wget https://storage.googleapis.com/ztm_tf_course/food_vision/10_food_classes_10_percent.zip\n",
        "\n",
        "zip_ref = zipfile.ZipFile(\"10_food_classes_10_percent.zip\")\n",
        "zip_ref.extractall()\n",
        "zip_ref.close()"
      ],
      "metadata": {
        "colab": {
          "base_uri": "https://localhost:8080/"
        },
        "id": "kTfYq3IuACJl",
        "outputId": "3ceab2e9-975e-4a76-fc8e-5f2a354758c0"
      },
      "execution_count": 2,
      "outputs": [
        {
          "output_type": "stream",
          "name": "stdout",
          "text": [
            "--2023-02-24 22:38:10--  https://storage.googleapis.com/ztm_tf_course/food_vision/10_food_classes_10_percent.zip\n",
            "Resolving storage.googleapis.com (storage.googleapis.com)... 142.251.18.128, 142.250.153.128, 142.250.145.128, ...\n",
            "Connecting to storage.googleapis.com (storage.googleapis.com)|142.251.18.128|:443... connected.\n",
            "HTTP request sent, awaiting response... 200 OK\n",
            "Length: 168546183 (161M) [application/zip]\n",
            "Saving to: ‘10_food_classes_10_percent.zip’\n",
            "\n",
            "10_food_classes_10_ 100%[===================>] 160.74M  38.3MB/s    in 4.8s    \n",
            "\n",
            "2023-02-24 22:38:15 (33.6 MB/s) - ‘10_food_classes_10_percent.zip’ saved [168546183/168546183]\n",
            "\n"
          ]
        }
      ]
    },
    {
      "cell_type": "code",
      "source": [
        "from tensorflow.keras.preprocessing.image import ImageDataGenerator\n",
        "\n",
        "IMAGE_SHAPE = (224,224)\n",
        "BATCH_SIZE = 32\n",
        "\n",
        "train_dir = \"10_food_classes_10_percent/train/\"\n",
        "test_dir = \"10_food_classes_10_percent/test/\"\n",
        "\n",
        "train_datagen = ImageDataGenerator(rescale=1/255.)\n",
        "test_datagen = ImageDataGenerator(rescale=1/255.)\n",
        "\n",
        "train_data = train_datagen.flow_from_directory(train_dir,\n",
        "                                               target_size = IMAGE_SHAPE,\n",
        "                                               batch_size = BATCH_SIZE,\n",
        "                                               class_mode = \"categorical\")\n",
        "\n",
        "test_data = test_datagen.flow_from_directory(test_dir,\n",
        "                                             target_size = IMAGE_SHAPE,\n",
        "                                             batch_size = BATCH_SIZE,\n",
        "                                             class_mode = \"categorical\")"
      ],
      "metadata": {
        "colab": {
          "base_uri": "https://localhost:8080/"
        },
        "id": "3VLslW1DBUe_",
        "outputId": "35fd1b5d-1997-451a-8a14-5cda0a067c15"
      },
      "execution_count": null,
      "outputs": [
        {
          "output_type": "stream",
          "name": "stdout",
          "text": [
            "Found 750 images belonging to 10 classes.\n",
            "Found 2500 images belonging to 10 classes.\n"
          ]
        }
      ]
    },
    {
      "cell_type": "markdown",
      "source": [
        "## Setting up callbacks\n",
        "\n",
        "Are extra functionality you can add to your models to be performed during or after training.\n",
        "Some of the most populars:\n",
        "\n",
        "* Tracking experiments with the TensorBoard callbacks\n",
        "* Model checkpoint with the Model\n",
        "* Stopping a model from training (before it trains too long and overfits) with the EarlyStopping callback"
      ],
      "metadata": {
        "id": "CJCG8M8lFxWR"
      }
    },
    {
      "cell_type": "code",
      "source": [
        "import datetime\n",
        "import tensorflow as tf\n",
        "\n",
        "def create_tensorboard_callback(dir_name, experiment_name):\n",
        "  log_dir = dir_name + \"/\" + experiment_name + \"/\" + datetime.datetime.now().strftime(\"%Y%m%d-%H%M%S\")\n",
        "  tensorboard_callback = tf.keras.callbacks.TensorBoard(log_dir=log_dir)\n",
        "  print(f\"Saving TensorBoard log files to: {log_dir}\")\n",
        "  return tensorboard_callback"
      ],
      "metadata": {
        "id": "Bmp33ho0Hlaz"
      },
      "execution_count": null,
      "outputs": []
    },
    {
      "cell_type": "markdown",
      "source": [
        "## Create Model with TensorFlow Hub\n",
        "We can accesses models in: \n",
        "https://tfhub.dev/\n",
        "\n",
        "* exemple below is from: https://tfhub.dev/tensorflow/efficientnet/b0/feature-vector/1 "
      ],
      "metadata": {
        "id": "nHrWT5A81Lez"
      }
    },
    {
      "cell_type": "code",
      "source": [
        "resnet_url = \"https://tfhub.dev/google/imagenet/resnet_v2_50/feature_vector/4\"\n",
        "\n",
        "efficientnet_url = \"https://tfhub.dev/tensorflow/efficientnet/b0/feature-vector/1\""
      ],
      "metadata": {
        "id": "bj2O6eSv1XPt"
      },
      "execution_count": null,
      "outputs": []
    },
    {
      "cell_type": "code",
      "source": [
        "import tensorflow as tf\n",
        "import tensorflow_hub as hub\n",
        "from tensorflow.keras import layers"
      ],
      "metadata": {
        "id": "GthKHC_63u2k"
      },
      "execution_count": null,
      "outputs": []
    },
    {
      "cell_type": "code",
      "source": [
        "def create_model(model_url, num_classes=1):\n",
        "  \"\"\"\n",
        "    Takes a tensorFlow Hub URL and creates a Keras Sequential model with it.\n",
        "\n",
        "    Args:\n",
        "      model_url (str): A TensorFlow Hub feature extraction URL.\n",
        "      num_classes (int): Number of output neurons in the output layer,\n",
        "        should be equal to number of target classes, default 1.\n",
        "\n",
        "    Returns:\n",
        "      An uncompiled Keras Sequential model with model_url as feature extractor\n",
        "      layer and Dense outpu layer with num_classes output neurons.\n",
        "  \"\"\"\n",
        "\n",
        "  feature_extractor_layer = hub.KerasLayer(model_url,\n",
        "                                           trainable=False,\n",
        "                                           name=\"feature_extractor_layer\")\n",
        "\n",
        "  model = tf.keras.Sequential([\n",
        "        feature_extractor_layer,\n",
        "        layers.Dense(num_classes, activation=\"softmax\", name=\"output_layer\")\n",
        "        ])\n",
        "\n",
        "  return model"
      ],
      "metadata": {
        "id": "DU1QY7e24DtH"
      },
      "execution_count": null,
      "outputs": []
    },
    {
      "cell_type": "markdown",
      "source": [
        "# Creating and testing ResNet TensorFlow Hub Feature Extraction model"
      ],
      "metadata": {
        "id": "AU1Dl5dw5lV1"
      }
    },
    {
      "cell_type": "code",
      "source": [
        "resnet_model = create_model(resnet_url, num_classes=train_data.num_classes)"
      ],
      "metadata": {
        "id": "UdFZ4sAj5u7o"
      },
      "execution_count": null,
      "outputs": []
    },
    {
      "cell_type": "code",
      "source": [
        "resnet_model.compile(loss=tf.keras.losses.CategoricalCrossentropy(),\n",
        "                     optimizer=tf.keras.optimizers.Adam(),\n",
        "                     metrics=[\"accuracy\"])\n",
        "\n",
        "resnet_history = resnet_model.fit(train_data,\n",
        "                           epochs=5,\n",
        "                           steps_per_epoch=len(train_data),\n",
        "                           validation_data=test_data,\n",
        "                           validation_steps=len(test_data),\n",
        "                           callbacks=[create_tensorboard_callback(dir_name=\"tensorflow_hub\",\n",
        "                                                                  experiment_name=\"resnet50V2\")])\n"
      ],
      "metadata": {
        "colab": {
          "base_uri": "https://localhost:8080/"
        },
        "id": "wFSEDKFn6IbX",
        "outputId": "cb89f1b3-6e62-472a-e529-e0c454e7a141"
      },
      "execution_count": null,
      "outputs": [
        {
          "output_type": "stream",
          "name": "stdout",
          "text": [
            "Saving TensorBoard log files to: tensorflow_hub/resnet50V2/20230224-194544\n",
            "Epoch 1/5\n",
            "24/24 [==============================] - 19s 749ms/step - loss: 0.3436 - accuracy: 0.9280 - val_loss: 0.6724 - val_accuracy: 0.7788\n",
            "Epoch 2/5\n",
            "24/24 [==============================] - 17s 737ms/step - loss: 0.2265 - accuracy: 0.9640 - val_loss: 0.6586 - val_accuracy: 0.7804\n",
            "Epoch 3/5\n",
            "24/24 [==============================] - 16s 707ms/step - loss: 0.1774 - accuracy: 0.9787 - val_loss: 0.6225 - val_accuracy: 0.8000\n",
            "Epoch 4/5\n",
            "24/24 [==============================] - 19s 803ms/step - loss: 0.1355 - accuracy: 0.9880 - val_loss: 0.6159 - val_accuracy: 0.7956\n",
            "Epoch 5/5\n",
            "24/24 [==============================] - 16s 698ms/step - loss: 0.1136 - accuracy: 0.9907 - val_loss: 0.6211 - val_accuracy: 0.7968\n"
          ]
        }
      ]
    },
    {
      "cell_type": "code",
      "source": [
        "import matplotlib.pyplot as plt\n",
        "\n",
        "def plot_loss_curves(history):\n",
        "  \"\"\"\n",
        "    Return separate loss curves for training and validation metrics.\n",
        "\n",
        "    Args:\n",
        "      History: TensorFlow History object.\n",
        "\n",
        "    Returns:\n",
        "      Plots of training/validation loss and accuracy metrics\n",
        "  \"\"\"  \n",
        "\n",
        "  loss = history.history[\"loss\"]\n",
        "  val_loss = history.history[\"val_loss\"]\n",
        "\n",
        "  accuracy = history.history[\"accuracy\"]\n",
        "  val_accuracy = history.history[\"val_accuracy\"]\n",
        "\n",
        "  epochs = range(len(history.history[\"loss\"]))\n",
        "\n",
        "  plt.plot(epochs, loss, label=\"training_loss\")\n",
        "  plt.plot(epochs, val_loss, label=\"val_loss\")\n",
        "  plt.title(\"Loss\")\n",
        "  plt.xlabel(\"Epochs\")\n",
        "  plt.legend()\n",
        "\n",
        "  plt.figure()\n",
        "  plt.plot(epochs, accuracy, label=\"training_accuracy\")\n",
        "  plt.plot(epochs, val_accuracy, label=\"val_accuracy\")\n",
        "  plt.title(\"Accuracy\")\n",
        "  plt.xlabel(\"Epochs\")\n",
        "  plt.legend()"
      ],
      "metadata": {
        "id": "FohGQyNb6I-X"
      },
      "execution_count": null,
      "outputs": []
    },
    {
      "cell_type": "code",
      "source": [
        "plot_loss_curves(resnet_history)"
      ],
      "metadata": {
        "colab": {
          "base_uri": "https://localhost:8080/",
          "height": 573
        },
        "id": "g9CgMgL4Apq3",
        "outputId": "d4d7945d-e392-4ff4-f833-29769b9cebcf"
      },
      "execution_count": null,
      "outputs": [
        {
          "output_type": "display_data",
          "data": {
            "text/plain": [
              "<Figure size 432x288 with 1 Axes>"
            ],
            "image/png": "[encoded data removed]"
          },
          "metadata": {
            "needs_background": "light"
          }
        },
        {
          "output_type": "display_data",
          "data": {
            "text/plain": [
              "<Figure size 432x288 with 1 Axes>"
            ],
            "image/png": "[encoded data removed]"
          },
          "metadata": {
            "needs_background": "light"
          }
        }
      ]
    },
    {
      "cell_type": "markdown",
      "source": [
        "## Creating and testing EfficientNetB0 TensorFlow Hub Feature Extraction model"
      ],
      "metadata": {
        "id": "QZz9LEK7A86p"
      }
    },
    {
      "cell_type": "code",
      "source": [
        "from keras.api._v2.keras.losses import CategoricalCrossentropy\n",
        "efficientnet_model = create_model(efficientnet_url, num_classes=train_data.num_classes)\n",
        "\n",
        "efficientnet_model.compile(loss=tf.keras.losses.CategoricalCrossentropy(),\n",
        "                           optimizer=tf.keras.optimizers.Adam(),\n",
        "                           metrics=[\"accuracy\"])\n",
        "\n",
        "efficientnet_history = efficientnet_model.fit(train_data,\n",
        "                                              epochs=10,\n",
        "                                              steps_per_epoch = len(train_data),\n",
        "                                              validation_data = test_data,\n",
        "                                              validation_steps= len(test_data),\n",
        "                                              callbacks=[create_tensorboard_callback(dir_name=\"tensorflow_hub\",\n",
        "                                                                  experiment_name=\"efficientnetB0\")])"
      ],
      "metadata": {
        "colab": {
          "base_uri": "https://localhost:8080/"
        },
        "id": "ZlRrlMMdBKA9",
        "outputId": "5370e5da-809e-47da-c64f-37c7d2a52b38"
      },
      "execution_count": null,
      "outputs": [
        {
          "output_type": "stream",
          "name": "stdout",
          "text": [
            "Saving TensorBoard log files to: tensorflow_hub/efficientnetB0/20230224-201041\n",
            "Epoch 1/10\n",
            "24/24 [==============================] - 27s 748ms/step - loss: 1.8422 - accuracy: 0.4613 - val_loss: 1.2957 - val_accuracy: 0.7304\n",
            "Epoch 2/10\n",
            "24/24 [==============================] - 16s 676ms/step - loss: 1.0630 - accuracy: 0.7547 - val_loss: 0.8687 - val_accuracy: 0.8248\n",
            "Epoch 3/10\n",
            "24/24 [==============================] - 15s 665ms/step - loss: 0.7582 - accuracy: 0.8240 - val_loss: 0.6998 - val_accuracy: 0.8416\n",
            "Epoch 4/10\n",
            "24/24 [==============================] - 16s 686ms/step - loss: 0.6117 - accuracy: 0.8587 - val_loss: 0.6099 - val_accuracy: 0.8512\n",
            "Epoch 5/10\n",
            "24/24 [==============================] - 15s 663ms/step - loss: 0.5153 - accuracy: 0.8880 - val_loss: 0.5556 - val_accuracy: 0.8604\n",
            "Epoch 6/10\n",
            "24/24 [==============================] - 17s 721ms/step - loss: 0.4483 - accuracy: 0.9107 - val_loss: 0.5220 - val_accuracy: 0.8632\n",
            "Epoch 7/10\n",
            "24/24 [==============================] - 16s 672ms/step - loss: 0.3962 - accuracy: 0.9187 - val_loss: 0.4937 - val_accuracy: 0.8692\n",
            "Epoch 8/10\n",
            "24/24 [==============================] - 16s 708ms/step - loss: 0.3525 - accuracy: 0.9347 - val_loss: 0.4732 - val_accuracy: 0.8704\n",
            "Epoch 9/10\n",
            "24/24 [==============================] - 15s 664ms/step - loss: 0.3154 - accuracy: 0.9493 - val_loss: 0.4547 - val_accuracy: 0.8740\n",
            "Epoch 10/10\n",
            "24/24 [==============================] - 15s 659ms/step - loss: 0.2848 - accuracy: 0.9613 - val_loss: 0.4430 - val_accuracy: 0.8744\n"
          ]
        }
      ]
    },
    {
      "cell_type": "code",
      "source": [
        "plot_loss_curves(efficientnet_history)"
      ],
      "metadata": {
        "colab": {
          "base_uri": "https://localhost:8080/",
          "height": 573
        },
        "id": "7LLVZjGuBNoC",
        "outputId": "8311ef2b-9ac6-42ed-ca12-e6e6951aff78"
      },
      "execution_count": null,
      "outputs": [
        {
          "output_type": "display_data",
          "data": {
            "text/plain": [
              "<Figure size 432x288 with 1 Axes>"
            ],
            "image/png": "[encoded data removed]"
          },
          "metadata": {
            "needs_background": "light"
          }
        },
        {
          "output_type": "display_data",
          "data": {
            "text/plain": [
              "<Figure size 432x288 with 1 Axes>"
            ],
            "image/png": "[encoded data removed]"
          },
          "metadata": {
            "needs_background": "light"
          }
        }
      ]
    },
    {
      "cell_type": "markdown",
      "source": [
        "## Different types of transfer learning\n",
        "\n",
        "* **\"As is\"** transfer learning - using an existing model with no changes what so ever.\n",
        "* **\"Feature extraction\"** transfer learning - use the prelearned patterns of an existing model and adjust the output layer for your own problem\n",
        "* **\"Fine-tuning\"** transfer learning -  use the prelearned patterns of an existing model and \"fine-tune\"many or all of the underlying layers (including new output layers)"
      ],
      "metadata": {
        "id": "3HdIA1vhD9bP"
      }
    },
    {
      "cell_type": "markdown",
      "source": [
        "# Comparing our models results using TensorBoard\n",
        "\n",
        "\n",
        "> **Note:** When upload things to TensorBoard.dev, the experiments are public!!"
      ],
      "metadata": {
        "id": "KweU-7iFF2W6"
      }
    },
    {
      "cell_type": "code",
      "source": [
        "# upload TensorBoard dev records\n",
        "#!tensorboard dev upload --logdir ./tensorflow_hub/ \\\n",
        "#  --name \"EfficientNetB0 vs. ResNet50V2\" \\\n",
        "#  --description \"Comparing two different TF hub feature extraction model architectures\" \\\n",
        "#  --one_shot"
      ],
      "metadata": {
        "id": "iSGeo9-KGAjO"
      },
      "execution_count": null,
      "outputs": []
    },
    {
      "cell_type": "markdown",
      "source": [
        "TensorBoard experiments are uploaded publically here: https://tensorboard.dev/experiment/fq7sbkf9R9moF55s74qeYA/\n"
      ],
      "metadata": {
        "id": "zhbi37LMHau5"
      }
    },
    {
      "cell_type": "code",
      "source": [
        "#!tensorboard dev list"
      ],
      "metadata": {
        "colab": {
          "base_uri": "https://localhost:8080/"
        },
        "id": "g1gIqH8fIarU",
        "outputId": "b717ac4a-7857-441c-a13a-62e32d1cd279"
      },
      "execution_count": null,
      "outputs": [
        {
          "output_type": "stream",
          "name": "stdout",
          "text": [
            "2023-02-24 20:34:47.116051: W tensorflow/compiler/xla/stream_executor/platform/default/dso_loader.cc:64] Could not load dynamic library 'libnvinfer.so.7'; dlerror: libnvinfer.so.7: cannot open shared object file: No such file or directory; LD_LIBRARY_PATH: /usr/lib64-nvidia\n",
            "2023-02-24 20:34:47.116157: W tensorflow/compiler/xla/stream_executor/platform/default/dso_loader.cc:64] Could not load dynamic library 'libnvinfer_plugin.so.7'; dlerror: libnvinfer_plugin.so.7: cannot open shared object file: No such file or directory; LD_LIBRARY_PATH: /usr/lib64-nvidia\n",
            "2023-02-24 20:34:47.116175: W tensorflow/compiler/tf2tensorrt/utils/py_utils.cc:38] TF-TRT Warning: Cannot dlopen some TensorRT libraries. If you would like to use Nvidia GPU with TensorRT, please make sure the missing libraries mentioned above are installed properly.\n",
            "https://tensorboard.dev/experiment/fq7sbkf9R9moF55s74qeYA/\n",
            "\tName                 EfficientNetB0 vs. ResNet50V2\n",
            "\tDescription          Comparing two different TF hub feature extraction model architectures\n",
            "\tId                   fq7sbkf9R9moF55s74qeYA\n",
            "\tCreated              2023-02-24 20:28:54 (5 minutes ago)\n",
            "\tUpdated              2023-02-24 20:29:02 (5 minutes ago)\n",
            "\tRuns                 6\n",
            "\tTags                 5\n",
            "\tScalars              120\n",
            "\tTensor bytes         0\n",
            "\tBinary object bytes  10015618\n",
            "Total: 1 experiment(s)\n"
          ]
        }
      ]
    },
    {
      "cell_type": "code",
      "source": [
        "#delete a experiment on tensorBoard\n",
        "# !tensorboard dev delete --experiment_id (experiment_id_here)"
      ],
      "metadata": {
        "id": "WeZ7wyzwIkvv"
      },
      "execution_count": null,
      "outputs": []
    },
    {
      "cell_type": "markdown",
      "source": [
        "# Exercices\n"
      ],
      "metadata": {
        "id": "AFJrVFTOkFwd"
      }
    },
    {
      "cell_type": "code",
      "source": [
        "import tensorflow as tf\n",
        "import tensorflow_hub as hub\n",
        "import datetime\n",
        "import matplotlib.pyplot as plt"
      ],
      "metadata": {
        "id": "cCFCyT0okKKv"
      },
      "execution_count": 1,
      "outputs": []
    },
    {
      "cell_type": "code",
      "source": [
        "from tensorflow.keras.preprocessing.image import ImageDataGenerator\n",
        "\n",
        "IMAGE_SHAPE = (224,224)\n",
        "#batch size will be the default - 32\n",
        "\n",
        "train_data = \"10_food_classes_10_percent/train/\"\n",
        "test_data = \"10_food_classes_10_percent/test/\"\n",
        "\n",
        "train_datagen = ImageDataGenerator(rescale=1/255.)\n",
        "test_datagen = ImageDataGenerator(rescale=1/255.)\n",
        "\n",
        "train_data = train_datagen.flow_from_directory(train_data,\n",
        "                                               target_size = IMAGE_SHAPE,\n",
        "                                               class_mode=\"categorical\")\n",
        "\n",
        "test_data = test_datagen.flow_from_directory(test_data,\n",
        "                                             target_size = IMAGE_SHAPE,\n",
        "                                             class_mode=\"categorical\")"
      ],
      "metadata": {
        "colab": {
          "base_uri": "https://localhost:8080/"
        },
        "id": "IhZHWasjk9iV",
        "outputId": "e3fbac46-98db-4c66-ebe4-6d1bb4584bd5"
      },
      "execution_count": 4,
      "outputs": [
        {
          "output_type": "stream",
          "name": "stdout",
          "text": [
            "Found 750 images belonging to 10 classes.\n",
            "Found 2500 images belonging to 10 classes.\n"
          ]
        }
      ]
    },
    {
      "cell_type": "code",
      "source": [
        "mobilenet_url = \"https://tfhub.dev/google/imagenet/mobilenet_v2_100_224/feature_vector/5\"\n",
        "\n",
        "feacture_extractor_layer = hub.KerasLayer(mobilenet_url,\n",
        "                                          trainable=False)\n",
        "\n",
        "mobile_model = tf.keras.Sequential([\n",
        "    feacture_extractor_layer,\n",
        "    tf.keras.layers.Dense(10, activation=\"softmax\")\n",
        "])\n",
        "\n",
        "mobile_model.compile(loss=tf.keras.losses.CategoricalCrossentropy(),\n",
        "                     optimizer=tf.keras.optimizers.Adam(),\n",
        "                     metrics=[\"accuracy\"])\n",
        "\n",
        "mobile_history = mobile_model.fit(train_data,\n",
        "                                  epochs=5,\n",
        "                                  steps_per_epoch=len(train_data),\n",
        "                                  validation_data=test_data,\n",
        "                                  validation_steps=len(test_data))"
      ],
      "metadata": {
        "colab": {
          "base_uri": "https://localhost:8080/"
        },
        "id": "M9tSstfukRzU",
        "outputId": "2730775a-f0bf-481a-a91a-0648775df1b2"
      },
      "execution_count": 7,
      "outputs": [
        {
          "output_type": "stream",
          "name": "stderr",
          "text": [
            "WARNING:tensorflow:From /usr/local/lib/python3.8/dist-packages/tensorflow/python/autograph/pyct/static_analysis/liveness.py:83: Analyzer.lamba_check (from tensorflow.python.autograph.pyct.static_analysis.liveness) is deprecated and will be removed after 2023-09-23.\n",
            "Instructions for updating:\n",
            "Lambda fuctions will be no more assumed to be used in the statement where they are used, or at least in the same block. https://github.com/tensorflow/tensorflow/issues/56089\n"
          ]
        },
        {
          "output_type": "stream",
          "name": "stdout",
          "text": [
            "Epoch 1/5\n",
            "24/24 [==============================] - 29s 1s/step - loss: 2.0005 - accuracy: 0.3173 - val_loss: 1.3032 - val_accuracy: 0.6208\n",
            "Epoch 2/5\n",
            "24/24 [==============================] - 25s 1s/step - loss: 1.0454 - accuracy: 0.7013 - val_loss: 0.8850 - val_accuracy: 0.7468\n",
            "Epoch 3/5\n",
            "24/24 [==============================] - 26s 1s/step - loss: 0.7420 - accuracy: 0.7960 - val_loss: 0.7422 - val_accuracy: 0.7876\n",
            "Epoch 4/5\n",
            "24/24 [==============================] - 16s 691ms/step - loss: 0.5939 - accuracy: 0.8440 - val_loss: 0.6833 - val_accuracy: 0.7980\n",
            "Epoch 5/5\n",
            "24/24 [==============================] - 26s 1s/step - loss: 0.4889 - accuracy: 0.8853 - val_loss: 0.6379 - val_accuracy: 0.8088\n"
          ]
        }
      ]
    },
    {
      "cell_type": "code",
      "source": [
        "epochs = range(len(mobile_history.history[\"loss\"]))\n",
        "\n",
        "plt.plot(epochs, mobile_history.history[\"loss\"], label=\"loss\")\n",
        "plt.plot(epochs, mobile_history.history[\"val_loss\"], label=\"val_loss\")\n",
        "plt.title(\"Loss\")\n",
        "plt.legend()\n",
        "\n",
        "plt.figure()\n",
        "plt.plot(epochs, mobile_history.history[\"accuracy\"], label=\"accuracy\")\n",
        "plt.plot(epochs, mobile_history.history[\"val_accuracy\"], label=\"val_accuracy\")\n",
        "plt.title(\"Accuracy\")\n",
        "plt.legend()"
      ],
      "metadata": {
        "colab": {
          "base_uri": "https://localhost:8080/",
          "height": 562
        },
        "id": "mySrNkCMn9KR",
        "outputId": "4fe455ed-3d2c-45aa-e5f6-1b463f52b874"
      },
      "execution_count": 10,
      "outputs": [
        {
          "output_type": "execute_result",
          "data": {
            "text/plain": [
              "<matplotlib.legend.Legend at 0x7fcb487621f0>"
            ]
          },
          "metadata": {},
          "execution_count": 10
        },
        {
          "output_type": "display_data",
          "data": {
            "text/plain": [
              "<Figure size 432x288 with 1 Axes>"
            ],
            "image/png": "[encoded data removed]"
          },
          "metadata": {
            "needs_background": "light"
          }
        },
        {
          "output_type": "display_data",
          "data": {
            "text/plain": [
              "<Figure size 432x288 with 1 Axes>"
            ],
            "image/png": "[encoded data removed]"
          },
          "metadata": {
            "needs_background": "light"
          }
        }
      ]
    }
  ]
}